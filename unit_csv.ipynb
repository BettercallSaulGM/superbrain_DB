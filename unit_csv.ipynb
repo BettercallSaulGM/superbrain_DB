{
 "cells": [
  {
   "cell_type": "code",
   "execution_count": 1,
   "id": "1226f84c",
   "metadata": {},
   "outputs": [],
   "source": [
    "import numpy as np\n",
    "import pymysql\n",
    "import pandas as pd\n",
    "import seaborn as sns\n",
    "\n",
    "from tqdm import tqdm\n",
    "\n",
    "import time\n",
    "import datetime"
   ]
  },
  {
   "cell_type": "code",
   "execution_count": 2,
   "id": "8153ee22",
   "metadata": {},
   "outputs": [],
   "source": [
    "# 시각화 모듈 임포트\n",
    "import matplotlib.pyplot as plt\n",
    "import seaborn as sns\n",
    "\n",
    "# jupyter notebook 내 그래프를 바로 그리기 위한 설정\n",
    "%matplotlib inline\n",
    "\n",
    "# unicode minus를 사용하지 않기 위한 설정 (minus 깨짐현상 방지)\n",
    "plt.rcParams['axes.unicode_minus'] = False\n",
    "plt.rcParams['font.family'] = 'Malgun Gothic'"
   ]
  },
  {
   "cell_type": "code",
   "execution_count": 3,
   "id": "0c5da99d",
   "metadata": {},
   "outputs": [],
   "source": [
    "# 2단계 : connect(mysql 접속)\n",
    "host_url = 'rowan-test-db.c2rbzfa0saqk.ap-northeast-2.rds.amazonaws.com'\n",
    "db = pymysql.connect(host=host_url, port=4406, user='root', passwd='rowan08101!', db='sb_db', charset='utf8')\n",
    "# 3단계 : cusor : 커서 생성\n",
    "cursor = db.cursor()"
   ]
  },
  {
   "cell_type": "code",
   "execution_count": 4,
   "id": "cedf806d",
   "metadata": {},
   "outputs": [
    {
     "name": "stderr",
     "output_type": "stream",
     "text": [
      "C:\\Users\\sanghyun\\Anaconda3\\envs\\sb_db\\lib\\site-packages\\pandas\\io\\sql.py:761: UserWarning: pandas only support SQLAlchemy connectable(engine/connection) ordatabase string URI or sqlite3 DBAPI2 connectionother DBAPI2 objects are not tested, please consider using SQLAlchemy\n",
      "  warnings.warn(\n"
     ]
    }
   ],
   "source": [
    "# 4단계 : sql문 작성(데이터 read)\n",
    "query = \"SELECT * FROM sb_db.brain_unit;\"\n",
    "# 5단계 : pd로 sql문 실행\n",
    "unit = pd.read_sql(query, db)"
   ]
  },
  {
   "cell_type": "code",
   "execution_count": 5,
   "id": "25d9db43",
   "metadata": {},
   "outputs": [],
   "source": [
    "cursor.close()\n",
    "db.close()"
   ]
  },
  {
   "cell_type": "code",
   "execution_count": 6,
   "id": "84f3be42",
   "metadata": {},
   "outputs": [],
   "source": [
    "unit.to_csv('UNIT.csv', encoding='utf-8-sig')"
   ]
  },
  {
   "cell_type": "code",
   "execution_count": null,
   "id": "f6b66258",
   "metadata": {},
   "outputs": [],
   "source": []
  }
 ],
 "metadata": {
  "kernelspec": {
   "display_name": "Python 3 (ipykernel)",
   "language": "python",
   "name": "python3"
  },
  "language_info": {
   "codemirror_mode": {
    "name": "ipython",
    "version": 3
   },
   "file_extension": ".py",
   "mimetype": "text/x-python",
   "name": "python",
   "nbconvert_exporter": "python",
   "pygments_lexer": "ipython3",
   "version": "3.9.12"
  }
 },
 "nbformat": 4,
 "nbformat_minor": 5
}
