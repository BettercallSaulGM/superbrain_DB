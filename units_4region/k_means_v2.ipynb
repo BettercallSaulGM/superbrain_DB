{
 "cells": [
  {
   "cell_type": "code",
   "execution_count": 1,
   "id": "b3a66097",
   "metadata": {},
   "outputs": [],
   "source": [
    "import numpy as np\n",
    "import pymysql\n",
    "import pandas as pd\n",
    "import seaborn as sns\n",
    "\n",
    "from tqdm import tqdm"
   ]
  },
  {
   "cell_type": "code",
   "execution_count": 2,
   "id": "9536597e",
   "metadata": {},
   "outputs": [],
   "source": [
    "# 시각화 모듈 임포트\n",
    "import matplotlib.pyplot as plt\n",
    "import seaborn as sns\n",
    "\n",
    "# jupyter notebook 내 그래프를 바로 그리기 위한 설정\n",
    "%matplotlib inline\n",
    "\n",
    "# unicode minus를 사용하지 않기 위한 설정 (minus 깨짐현상 방지)\n",
    "plt.rcParams['axes.unicode_minus'] = False\n",
    "plt.rcParams['font.family'] = 'Malgun Gothic'\n",
    "sns.set(rc={'figure.figsize':(11.7,8.27)})"
   ]
  },
  {
   "cell_type": "code",
   "execution_count": 3,
   "id": "8fc8ffc7",
   "metadata": {},
   "outputs": [],
   "source": [
    "def unit_stats(x, title):\n",
    "    df = {}\n",
    "\n",
    "    df['edu'] = x.iloc[0]['education']\n",
    "    df['age'] = x.iloc[0]['age']\n",
    "    df['duration'] = x.iloc[0]['duration_date']\n",
    "    df['organization'] = x.iloc[0]['organization']\n",
    "    df[title + '_num'] = x['user_idx'].count()\n",
    "    df[title + '_level'] = x['game_log_level'].mean()\n",
    "    df[title + '_time'] = x['game_log_time'].mean()\n",
    "    df[title + '_score'] = x['game_log_success'].mean()\n",
    "    \n",
    "    return pd.Series(df)"
   ]
  },
  {
   "cell_type": "code",
   "execution_count": 4,
   "id": "65877e88",
   "metadata": {},
   "outputs": [],
   "source": [
    "def user_log_arange(x, title):\n",
    "    game_log = pd.read_csv(\"../game_log.csv\", encoding='utf-8-sig', index_col='game_log_idx')\n",
    "    unit_df = [game_log[game_log['unit']==n ] for n in x]\n",
    "    unit = pd.concat(unit_df)\n",
    "    \n",
    "    unit_log = unit.groupby(['user_idx']).apply(unit_stats, (title))\n",
    "    return unit_log"
   ]
  },
  {
   "cell_type": "code",
   "execution_count": 11,
   "id": "0022fa7e",
   "metadata": {},
   "outputs": [],
   "source": [
    "x = [2,4,7,8,9,10,11,12,13]\n",
    "user_log_lobe = user_log_arange(x, 'Lobe')\n",
    "x = [3, 5, 6]\n",
    "user_log_memory = user_log_arange(x, 'Memory')\n",
    "x = [17, 18, 19, 20]\n",
    "user_log_calculation = user_log_arange(x, 'Calculation')\n",
    "x = [14, 16, 15, 22]\n",
    "user_log_space_recog = user_log_arange(x, 'Space_Recognize')"
   ]
  },
  {
   "cell_type": "code",
   "execution_count": 12,
   "id": "6b0f72c6",
   "metadata": {},
   "outputs": [],
   "source": [
    "merge1 = pd.merge(user_log_lobe, user_log_memory, on=['user_idx', 'edu', 'age', 'duration', 'organization'])\n",
    "merge2 = pd.merge(user_log_calculation, user_log_space_recog, on=['user_idx', 'edu', 'age', 'duration', 'organization'])\n",
    "user_log_merge = pd.merge(merge1, merge2, on=['user_idx', 'edu', 'age', 'duration', 'organization'])"
   ]
  },
  {
   "cell_type": "code",
   "execution_count": 13,
   "id": "259c43d3",
   "metadata": {},
   "outputs": [
    {
     "data": {
      "text/plain": [
       "460"
      ]
     },
     "execution_count": 13,
     "metadata": {},
     "output_type": "execute_result"
    }
   ],
   "source": [
    "len(user_log_merge)"
   ]
  },
  {
   "cell_type": "code",
   "execution_count": 14,
   "id": "67f96111",
   "metadata": {},
   "outputs": [
    {
     "name": "stdout",
     "output_type": "stream",
     "text": [
      "Int64Index([], dtype='int64', name='user_idx')\n",
      "Int64Index([], dtype='int64', name='user_idx')\n",
      "Int64Index([457], dtype='int64', name='user_idx')\n",
      "Int64Index([457, 420, 460, 548, 684, 685, 687, 689, 870], dtype='int64', name='user_idx')\n"
     ]
    }
   ],
   "source": [
    "speed_over100_idx = user_log_merge[user_log_merge['Lobe_time'] > 100].index\n",
    "print(speed_over100_idx)\n",
    "speed_over100_idx = speed_over100_idx.append(user_log_merge[user_log_merge['Memory_time'] > 100].index)\n",
    "print(speed_over100_idx)\n",
    "speed_over100_idx = speed_over100_idx.append(user_log_merge[user_log_merge['Calculation_time'] > 100].index)\n",
    "print(speed_over100_idx)\n",
    "speed_over100_idx = speed_over100_idx.append(user_log_merge[user_log_merge['Space_Recognize_time'] > 100].index)\n",
    "print(speed_over100_idx)\n",
    "user_log_merge = user_log_merge.drop(speed_over100_idx)\n",
    "user_log_over65 = user_log_merge[user_log_merge['age']>65]"
   ]
  },
  {
   "cell_type": "code",
   "execution_count": 17,
   "id": "b5ed3e6e",
   "metadata": {},
   "outputs": [],
   "source": [
    "import matplotlib.pyplot as plt\n",
    "from kneed import KneeLocator\n",
    "from sklearn.datasets import make_blobs\n",
    "from sklearn.cluster import KMeans\n",
    "from sklearn.metrics import silhouette_score\n",
    "from sklearn.preprocessing import StandardScaler"
   ]
  },
  {
   "cell_type": "code",
   "execution_count": 18,
   "id": "e3298281",
   "metadata": {},
   "outputs": [],
   "source": [
    "scaler = StandardScaler()\n",
    "scaled_features = scaler.fit_transform(user_log_over65.drop('organization', axis=1))"
   ]
  },
  {
   "cell_type": "code",
   "execution_count": 29,
   "id": "2a210621",
   "metadata": {},
   "outputs": [],
   "source": [
    "kmeans = KMeans(init=\"k-means++\", n_clusters=5, n_init=10, max_iter=300, random_state=42)"
   ]
  },
  {
   "cell_type": "code",
   "execution_count": 30,
   "id": "9c8c3cd5",
   "metadata": {},
   "outputs": [],
   "source": [
    "label = kmeans.fit(scaled_features).labels_"
   ]
  },
  {
   "cell_type": "code",
   "execution_count": 31,
   "id": "d7f503f9",
   "metadata": {},
   "outputs": [
    {
     "name": "stderr",
     "output_type": "stream",
     "text": [
      "C:\\Users\\sanghyun\\AppData\\Local\\Temp\\ipykernel_2504\\1191600724.py:1: SettingWithCopyWarning: \n",
      "A value is trying to be set on a copy of a slice from a DataFrame.\n",
      "Try using .loc[row_indexer,col_indexer] = value instead\n",
      "\n",
      "See the caveats in the documentation: https://pandas.pydata.org/pandas-docs/stable/user_guide/indexing.html#returning-a-view-versus-a-copy\n",
      "  user_log_over65['label'] = label\n"
     ]
    }
   ],
   "source": [
    "user_log_over65['label'] = label"
   ]
  },
  {
   "cell_type": "markdown",
   "id": "adcf9f11",
   "metadata": {},
   "source": [
    "# 1번 그룹은 난이도가 높은 단계까지 수행한 집단이다."
   ]
  },
  {
   "cell_type": "code",
   "execution_count": 32,
   "id": "2b017b3b",
   "metadata": {},
   "outputs": [],
   "source": [
    "palette = dict(zip(np.unique(label), sns.color_palette(n_colors=6)))"
   ]
  },
  {
   "cell_type": "code",
   "execution_count": 33,
   "id": "865bd365",
   "metadata": {},
   "outputs": [
    {
     "data": {
      "text/plain": [
       "1    205\n",
       "4    117\n",
       "2     59\n",
       "0     21\n",
       "3     12\n",
       "dtype: int64"
      ]
     },
     "execution_count": 33,
     "metadata": {},
     "output_type": "execute_result"
    }
   ],
   "source": [
    "pd.DataFrame(label).value_counts()"
   ]
  },
  {
   "cell_type": "code",
   "execution_count": 34,
   "id": "04e89b0d",
   "metadata": {},
   "outputs": [
    {
     "data": {
      "text/plain": [
       "array([66., 75., 79., 97.])"
      ]
     },
     "execution_count": 34,
     "metadata": {},
     "output_type": "execute_result"
    }
   ],
   "source": [
    "np.quantile(user_log_over65['age'], [0, 0.333, 0.666, 1])"
   ]
  },
  {
   "cell_type": "code",
   "execution_count": 60,
   "id": "1c83921c",
   "metadata": {},
   "outputs": [
    {
     "data": {
      "text/plain": [
       "user_idx\n",
       "39      로아신경과의원\n",
       "42      로아신경과의원\n",
       "91      로아신경과의원\n",
       "93      로아신경과의원\n",
       "97      로아신경과의원\n",
       "98      로아신경과의원\n",
       "111     로아신경과의원\n",
       "113     로아신경과의원\n",
       "115     로아신경과의원\n",
       "126     로아신경과의원\n",
       "135       ROWAN\n",
       "136       ROWAN\n",
       "139     로아신경과의원\n",
       "148       ROWAN\n",
       "182     로아신경과의원\n",
       "184     로아신경과의원\n",
       "203     로아신경과의원\n",
       "910     로아신경과의원\n",
       "1013     남양주백병원\n",
       "1041    로아신경과의원\n",
       "1059     남양주백병원\n",
       "Name: organization, dtype: object"
      ]
     },
     "execution_count": 60,
     "metadata": {},
     "output_type": "execute_result"
    }
   ],
   "source": [
    "user_log_over65[user_log_over65['label']==0]['organization']"
   ]
  },
  {
   "cell_type": "code",
   "execution_count": 61,
   "id": "18a5b6a9",
   "metadata": {},
   "outputs": [
    {
     "data": {
      "text/plain": [
       "user_idx\n",
       "51         로아신경과의원\n",
       "110        로아신경과의원\n",
       "122        로아신경과의원\n",
       "125        로아신경과의원\n",
       "260        로아신경과의원\n",
       "472     평택시서부노인복지관\n",
       "481     용인시수지노인복지관\n",
       "484     용인시수지노인복지관\n",
       "569       MEET-전남대\n",
       "696      MEET-이대서울\n",
       "707    의왕시아름채노인복지관\n",
       "893    MEET-노인보건센터\n",
       "Name: organization, dtype: object"
      ]
     },
     "execution_count": 61,
     "metadata": {},
     "output_type": "execute_result"
    }
   ],
   "source": [
    "user_log_over65[user_log_over65['label']==3]['organization']"
   ]
  },
  {
   "cell_type": "code",
   "execution_count": 35,
   "id": "c1b15444",
   "metadata": {},
   "outputs": [
    {
     "name": "stderr",
     "output_type": "stream",
     "text": [
      "C:\\Users\\sanghyun\\Anaconda3\\envs\\sb-db\\lib\\site-packages\\seaborn\\_decorators.py:36: FutureWarning: Pass the following variables as keyword args: x, y. From version 0.12, the only valid positional argument will be `data`, and passing other arguments without an explicit keyword will result in an error or misinterpretation.\n",
      "  warnings.warn(\n"
     ]
    },
    {
     "data": {
      "image/png": "[encoded data removed]",
      "text/plain": [
       "<Figure size 864x720 with 1 Axes>"
      ]
     },
     "metadata": {},
     "output_type": "display_data"
    }
   ],
   "source": [
    "plt.figure(figsize=(12,10))\n",
    "plt.title('Age', fontsize=20)\n",
    "sns.boxplot(label, user_log_over65['age'], showfliers=False, palette=palette)\n",
    "plt.show()"
   ]
  },
  {
   "cell_type": "code",
   "execution_count": 36,
   "id": "07f770ad",
   "metadata": {},
   "outputs": [
    {
     "name": "stderr",
     "output_type": "stream",
     "text": [
      "C:\\Users\\sanghyun\\Anaconda3\\envs\\sb-db\\lib\\site-packages\\seaborn\\_decorators.py:36: FutureWarning: Pass the following variables as keyword args: x, y. From version 0.12, the only valid positional argument will be `data`, and passing other arguments without an explicit keyword will result in an error or misinterpretation.\n",
      "  warnings.warn(\n"
     ]
    },
    {
     "data": {
      "image/png": "[encoded data removed]",
      "text/plain": [
       "<Figure size 864x720 with 1 Axes>"
      ]
     },
     "metadata": {},
     "output_type": "display_data"
    }
   ],
   "source": [
    "plt.figure(figsize=(12,10))\n",
    "plt.title('Duration', fontsize=20)\n",
    "sns.boxplot(label, user_log_over65['duration'], showfliers=False)\n",
    "plt.show()"
   ]
  },
  {
   "cell_type": "code",
   "execution_count": 37,
   "id": "b319c291",
   "metadata": {},
   "outputs": [
    {
     "name": "stderr",
     "output_type": "stream",
     "text": [
      "C:\\Users\\sanghyun\\Anaconda3\\envs\\sb-db\\lib\\site-packages\\seaborn\\_decorators.py:36: FutureWarning: Pass the following variables as keyword args: x, y. From version 0.12, the only valid positional argument will be `data`, and passing other arguments without an explicit keyword will result in an error or misinterpretation.\n",
      "  warnings.warn(\n"
     ]
    },
    {
     "data": {
      "image/png": "[encoded data removed]",
      "text/plain": [
       "<Figure size 864x720 with 1 Axes>"
      ]
     },
     "metadata": {},
     "output_type": "display_data"
    }
   ],
   "source": [
    "plt.figure(figsize=(12,10))\n",
    "plt.title('Edu', fontsize=20)\n",
    "sns.boxplot(label, user_log_over65['edu'], showfliers=False)\n",
    "plt.show()"
   ]
  },
  {
   "cell_type": "code",
   "execution_count": 66,
   "id": "011ddbab",
   "metadata": {},
   "outputs": [],
   "source": [
    "pd.DataFrame(user_log_over65['label']).to_csv('label.csv', encoding='utf-8-sig')"
   ]
  },
  {
   "cell_type": "code",
   "execution_count": null,
   "id": "0649069b",
   "metadata": {},
   "outputs": [],
   "source": []
  }
 ],
 "metadata": {
  "kernelspec": {
   "display_name": "Python 3 (ipykernel)",
   "language": "python",
   "name": "python3"
  },
  "language_info": {
   "codemirror_mode": {
    "name": "ipython",
    "version": 3
   },
   "file_extension": ".py",
   "mimetype": "text/x-python",
   "name": "python",
   "nbconvert_exporter": "python",
   "pygments_lexer": "ipython3",
   "version": "3.9.7"
  }
 },
 "nbformat": 4,
 "nbformat_minor": 5
}
