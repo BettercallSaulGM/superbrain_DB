{
 "cells": [
  {
   "cell_type": "markdown",
   "id": "1a9e4525",
   "metadata": {},
   "source": [
    "# 환자 학력 및 나이 그래프화"
   ]
  },
  {
   "cell_type": "code",
   "execution_count": 10,
   "id": "1226f84c",
   "metadata": {},
   "outputs": [],
   "source": [
    "import numpy as np\n",
    "import pymysql\n",
    "import pandas as pd\n",
    "import seaborn as sns\n",
    "from tqdm import tqdm"
   ]
  },
  {
   "cell_type": "code",
   "execution_count": 14,
   "id": "0c5da99d",
   "metadata": {},
   "outputs": [],
   "source": [
    "# 2단계 : connect(mysql 접속)\n",
    "host_url = 'rowan-test-db.c2rbzfa0saqk.ap-northeast-2.rds.amazonaws.com'\n",
    "db = pymysql.connect(host=host_url, port=4406, user='root', passwd='rowan08101!', db='sb_db', charset='utf8')\n",
    "# 3단계 : cusor : 커서 생성\n",
    "cursor = db.cursor()"
   ]
  },
  {
   "cell_type": "code",
   "execution_count": 15,
   "id": "cedf806d",
   "metadata": {},
   "outputs": [],
   "source": [
    "# 4단계 : sql문 작성(데이터 read)\n",
    "query = \"SELECT * FROM sb_db.user_real;\"\n",
    "# 5단계 : pd로 sql문 실행\n",
    "user_log = pd.read_sql(query, db)"
   ]
  },
  {
   "cell_type": "code",
   "execution_count": 16,
   "id": "25d9db43",
   "metadata": {},
   "outputs": [],
   "source": [
    "cursor.close()\n",
    "db.close()"
   ]
  },
  {
   "cell_type": "code",
   "execution_count": 19,
   "id": "f1c92af7",
   "metadata": {},
   "outputs": [],
   "source": [
    "user_log.set_index('idx', inplace=True)"
   ]
  },
  {
   "cell_type": "code",
   "execution_count": 20,
   "id": "eeb07e9a",
   "metadata": {},
   "outputs": [
    {
     "data": {
      "text/html": [
       "<div>\n",
       "<style scoped>\n",
       "    .dataframe tbody tr th:only-of-type {\n",
       "        vertical-align: middle;\n",
       "    }\n",
       "\n",
       "    .dataframe tbody tr th {\n",
       "        vertical-align: top;\n",
       "    }\n",
       "\n",
       "    .dataframe thead th {\n",
       "        text-align: right;\n",
       "    }\n",
       "</style>\n",
       "<table border=\"1\" class=\"dataframe\">\n",
       "  <thead>\n",
       "    <tr style=\"text-align: right;\">\n",
       "      <th></th>\n",
       "      <th>userId</th>\n",
       "      <th>birth</th>\n",
       "      <th>gender</th>\n",
       "      <th>education</th>\n",
       "      <th>height</th>\n",
       "      <th>job</th>\n",
       "      <th>name</th>\n",
       "      <th>organization</th>\n",
       "    </tr>\n",
       "    <tr>\n",
       "      <th>idx</th>\n",
       "      <th></th>\n",
       "      <th></th>\n",
       "      <th></th>\n",
       "      <th></th>\n",
       "      <th></th>\n",
       "      <th></th>\n",
       "      <th></th>\n",
       "      <th></th>\n",
       "    </tr>\n",
       "  </thead>\n",
       "  <tbody>\n",
       "    <tr>\n",
       "      <th>39</th>\n",
       "      <td>A0001</td>\n",
       "      <td>19520219</td>\n",
       "      <td>M</td>\n",
       "      <td>16</td>\n",
       "      <td>172</td>\n",
       "      <td></td>\n",
       "      <td>소필영</td>\n",
       "      <td>로아신경과의원</td>\n",
       "    </tr>\n",
       "    <tr>\n",
       "      <th>42</th>\n",
       "      <td>A0002</td>\n",
       "      <td>19511114</td>\n",
       "      <td>M</td>\n",
       "      <td>16</td>\n",
       "      <td>172</td>\n",
       "      <td></td>\n",
       "      <td>강일구</td>\n",
       "      <td>로아신경과의원</td>\n",
       "    </tr>\n",
       "    <tr>\n",
       "      <th>50</th>\n",
       "      <td>A0003</td>\n",
       "      <td>19970417</td>\n",
       "      <td>F</td>\n",
       "      <td>16</td>\n",
       "      <td>160</td>\n",
       "      <td></td>\n",
       "      <td>조하영</td>\n",
       "      <td>로아신경과의원</td>\n",
       "    </tr>\n",
       "    <tr>\n",
       "      <th>51</th>\n",
       "      <td>A0004</td>\n",
       "      <td>19421004</td>\n",
       "      <td>F</td>\n",
       "      <td>16</td>\n",
       "      <td>160</td>\n",
       "      <td></td>\n",
       "      <td>김선희</td>\n",
       "      <td>로아신경과의원</td>\n",
       "    </tr>\n",
       "    <tr>\n",
       "      <th>91</th>\n",
       "      <td>A0005</td>\n",
       "      <td>19550822</td>\n",
       "      <td>F</td>\n",
       "      <td>16</td>\n",
       "      <td>160</td>\n",
       "      <td></td>\n",
       "      <td>서영숙</td>\n",
       "      <td>로아신경과의원</td>\n",
       "    </tr>\n",
       "    <tr>\n",
       "      <th>...</th>\n",
       "      <td>...</td>\n",
       "      <td>...</td>\n",
       "      <td>...</td>\n",
       "      <td>...</td>\n",
       "      <td>...</td>\n",
       "      <td>...</td>\n",
       "      <td>...</td>\n",
       "      <td>...</td>\n",
       "    </tr>\n",
       "    <tr>\n",
       "      <th>1033</th>\n",
       "      <td>nbd003</td>\n",
       "      <td>19490501</td>\n",
       "      <td>F</td>\n",
       "      <td>6</td>\n",
       "      <td>160</td>\n",
       "      <td></td>\n",
       "      <td>이정호</td>\n",
       "      <td>남양주백병원</td>\n",
       "    </tr>\n",
       "    <tr>\n",
       "      <th>1038</th>\n",
       "      <td>ndb004</td>\n",
       "      <td>19550323</td>\n",
       "      <td>F</td>\n",
       "      <td>9</td>\n",
       "      <td>160</td>\n",
       "      <td></td>\n",
       "      <td>홍정옥</td>\n",
       "      <td>남양주백병원</td>\n",
       "    </tr>\n",
       "    <tr>\n",
       "      <th>1041</th>\n",
       "      <td>A0031</td>\n",
       "      <td>19390406</td>\n",
       "      <td>F</td>\n",
       "      <td>12</td>\n",
       "      <td>160</td>\n",
       "      <td></td>\n",
       "      <td>김애규</td>\n",
       "      <td>로아신경과의원</td>\n",
       "    </tr>\n",
       "    <tr>\n",
       "      <th>1058</th>\n",
       "      <td>ndb005</td>\n",
       "      <td>19400515</td>\n",
       "      <td>F</td>\n",
       "      <td>16</td>\n",
       "      <td>160</td>\n",
       "      <td></td>\n",
       "      <td>이송원</td>\n",
       "      <td>남양주백병원</td>\n",
       "    </tr>\n",
       "    <tr>\n",
       "      <th>1059</th>\n",
       "      <td>ndb006</td>\n",
       "      <td>19451202</td>\n",
       "      <td>F</td>\n",
       "      <td>6</td>\n",
       "      <td>160</td>\n",
       "      <td></td>\n",
       "      <td>박정선</td>\n",
       "      <td>남양주백병원</td>\n",
       "    </tr>\n",
       "  </tbody>\n",
       "</table>\n",
       "<p>527 rows × 8 columns</p>\n",
       "</div>"
      ],
      "text/plain": [
       "      userId     birth gender  education  height job name organization\n",
       "idx                                                                   \n",
       "39     A0001  19520219      M         16     172      소필영      로아신경과의원\n",
       "42     A0002  19511114      M         16     172      강일구      로아신경과의원\n",
       "50     A0003  19970417      F         16     160      조하영      로아신경과의원\n",
       "51     A0004  19421004      F         16     160      김선희      로아신경과의원\n",
       "91     A0005  19550822      F         16     160      서영숙      로아신경과의원\n",
       "...      ...       ...    ...        ...     ...  ..  ...          ...\n",
       "1033  nbd003  19490501      F          6     160      이정호       남양주백병원\n",
       "1038  ndb004  19550323      F          9     160      홍정옥       남양주백병원\n",
       "1041   A0031  19390406      F         12     160      김애규      로아신경과의원\n",
       "1058  ndb005  19400515      F         16     160      이송원       남양주백병원\n",
       "1059  ndb006  19451202      F          6     160      박정선       남양주백병원\n",
       "\n",
       "[527 rows x 8 columns]"
      ]
     },
     "execution_count": 20,
     "metadata": {},
     "output_type": "execute_result"
    }
   ],
   "source": [
    "user_log"
   ]
  },
  {
   "cell_type": "code",
   "execution_count": 23,
   "id": "2e1e123d",
   "metadata": {},
   "outputs": [
    {
     "name": "stderr",
     "output_type": "stream",
     "text": [
      "  0%|                                                                                          | 0/527 [00:00<?, ?it/s]C:\\Users\\sanghyun\\AppData\\Local\\Temp\\ipykernel_18484\\3975078305.py:5: SettingWithCopyWarning: \n",
      "A value is trying to be set on a copy of a slice from a DataFrame\n",
      "\n",
      "See the caveats in the documentation: https://pandas.pydata.org/pandas-docs/stable/user_guide/indexing.html#returning-a-view-versus-a-copy\n",
      "  user_log['age'][idx] = int(temp)\n",
      "100%|███████████████████████████████████████████████████████████████████████████████| 527/527 [00:03<00:00, 152.56it/s]\n"
     ]
    }
   ],
   "source": [
    "user_log['age'] = \"\"\n",
    "\n",
    "for idx, val in tqdm(user_log.iterrows(), total=user_log.shape[0]):\n",
    "    temp = 2023 - val[\"birth\"] // 10**4\n",
    "    user_log['age'][idx] = int(temp)"
   ]
  },
  {
   "cell_type": "code",
   "execution_count": 25,
   "id": "0c4ca120",
   "metadata": {},
   "outputs": [
    {
     "data": {
      "text/html": [
       "<div>\n",
       "<style scoped>\n",
       "    .dataframe tbody tr th:only-of-type {\n",
       "        vertical-align: middle;\n",
       "    }\n",
       "\n",
       "    .dataframe tbody tr th {\n",
       "        vertical-align: top;\n",
       "    }\n",
       "\n",
       "    .dataframe thead th {\n",
       "        text-align: right;\n",
       "    }\n",
       "</style>\n",
       "<table border=\"1\" class=\"dataframe\">\n",
       "  <thead>\n",
       "    <tr style=\"text-align: right;\">\n",
       "      <th></th>\n",
       "      <th>userId</th>\n",
       "      <th>birth</th>\n",
       "      <th>gender</th>\n",
       "      <th>education</th>\n",
       "      <th>height</th>\n",
       "      <th>job</th>\n",
       "      <th>name</th>\n",
       "      <th>organization</th>\n",
       "      <th>age</th>\n",
       "    </tr>\n",
       "    <tr>\n",
       "      <th>idx</th>\n",
       "      <th></th>\n",
       "      <th></th>\n",
       "      <th></th>\n",
       "      <th></th>\n",
       "      <th></th>\n",
       "      <th></th>\n",
       "      <th></th>\n",
       "      <th></th>\n",
       "      <th></th>\n",
       "    </tr>\n",
       "  </thead>\n",
       "  <tbody>\n",
       "    <tr>\n",
       "      <th>39</th>\n",
       "      <td>A0001</td>\n",
       "      <td>19520219</td>\n",
       "      <td>M</td>\n",
       "      <td>16</td>\n",
       "      <td>172</td>\n",
       "      <td></td>\n",
       "      <td>소필영</td>\n",
       "      <td>로아신경과의원</td>\n",
       "      <td>71</td>\n",
       "    </tr>\n",
       "    <tr>\n",
       "      <th>42</th>\n",
       "      <td>A0002</td>\n",
       "      <td>19511114</td>\n",
       "      <td>M</td>\n",
       "      <td>16</td>\n",
       "      <td>172</td>\n",
       "      <td></td>\n",
       "      <td>강일구</td>\n",
       "      <td>로아신경과의원</td>\n",
       "      <td>72</td>\n",
       "    </tr>\n",
       "    <tr>\n",
       "      <th>50</th>\n",
       "      <td>A0003</td>\n",
       "      <td>19970417</td>\n",
       "      <td>F</td>\n",
       "      <td>16</td>\n",
       "      <td>160</td>\n",
       "      <td></td>\n",
       "      <td>조하영</td>\n",
       "      <td>로아신경과의원</td>\n",
       "      <td>26</td>\n",
       "    </tr>\n",
       "    <tr>\n",
       "      <th>51</th>\n",
       "      <td>A0004</td>\n",
       "      <td>19421004</td>\n",
       "      <td>F</td>\n",
       "      <td>16</td>\n",
       "      <td>160</td>\n",
       "      <td></td>\n",
       "      <td>김선희</td>\n",
       "      <td>로아신경과의원</td>\n",
       "      <td>81</td>\n",
       "    </tr>\n",
       "    <tr>\n",
       "      <th>91</th>\n",
       "      <td>A0005</td>\n",
       "      <td>19550822</td>\n",
       "      <td>F</td>\n",
       "      <td>16</td>\n",
       "      <td>160</td>\n",
       "      <td></td>\n",
       "      <td>서영숙</td>\n",
       "      <td>로아신경과의원</td>\n",
       "      <td>68</td>\n",
       "    </tr>\n",
       "    <tr>\n",
       "      <th>...</th>\n",
       "      <td>...</td>\n",
       "      <td>...</td>\n",
       "      <td>...</td>\n",
       "      <td>...</td>\n",
       "      <td>...</td>\n",
       "      <td>...</td>\n",
       "      <td>...</td>\n",
       "      <td>...</td>\n",
       "      <td>...</td>\n",
       "    </tr>\n",
       "    <tr>\n",
       "      <th>1033</th>\n",
       "      <td>nbd003</td>\n",
       "      <td>19490501</td>\n",
       "      <td>F</td>\n",
       "      <td>6</td>\n",
       "      <td>160</td>\n",
       "      <td></td>\n",
       "      <td>이정호</td>\n",
       "      <td>남양주백병원</td>\n",
       "      <td>74</td>\n",
       "    </tr>\n",
       "    <tr>\n",
       "      <th>1038</th>\n",
       "      <td>ndb004</td>\n",
       "      <td>19550323</td>\n",
       "      <td>F</td>\n",
       "      <td>9</td>\n",
       "      <td>160</td>\n",
       "      <td></td>\n",
       "      <td>홍정옥</td>\n",
       "      <td>남양주백병원</td>\n",
       "      <td>68</td>\n",
       "    </tr>\n",
       "    <tr>\n",
       "      <th>1041</th>\n",
       "      <td>A0031</td>\n",
       "      <td>19390406</td>\n",
       "      <td>F</td>\n",
       "      <td>12</td>\n",
       "      <td>160</td>\n",
       "      <td></td>\n",
       "      <td>김애규</td>\n",
       "      <td>로아신경과의원</td>\n",
       "      <td>84</td>\n",
       "    </tr>\n",
       "    <tr>\n",
       "      <th>1058</th>\n",
       "      <td>ndb005</td>\n",
       "      <td>19400515</td>\n",
       "      <td>F</td>\n",
       "      <td>16</td>\n",
       "      <td>160</td>\n",
       "      <td></td>\n",
       "      <td>이송원</td>\n",
       "      <td>남양주백병원</td>\n",
       "      <td>83</td>\n",
       "    </tr>\n",
       "    <tr>\n",
       "      <th>1059</th>\n",
       "      <td>ndb006</td>\n",
       "      <td>19451202</td>\n",
       "      <td>F</td>\n",
       "      <td>6</td>\n",
       "      <td>160</td>\n",
       "      <td></td>\n",
       "      <td>박정선</td>\n",
       "      <td>남양주백병원</td>\n",
       "      <td>78</td>\n",
       "    </tr>\n",
       "  </tbody>\n",
       "</table>\n",
       "<p>527 rows × 9 columns</p>\n",
       "</div>"
      ],
      "text/plain": [
       "      userId     birth gender  education  height job name organization age\n",
       "idx                                                                       \n",
       "39     A0001  19520219      M         16     172      소필영      로아신경과의원  71\n",
       "42     A0002  19511114      M         16     172      강일구      로아신경과의원  72\n",
       "50     A0003  19970417      F         16     160      조하영      로아신경과의원  26\n",
       "51     A0004  19421004      F         16     160      김선희      로아신경과의원  81\n",
       "91     A0005  19550822      F         16     160      서영숙      로아신경과의원  68\n",
       "...      ...       ...    ...        ...     ...  ..  ...          ...  ..\n",
       "1033  nbd003  19490501      F          6     160      이정호       남양주백병원  74\n",
       "1038  ndb004  19550323      F          9     160      홍정옥       남양주백병원  68\n",
       "1041   A0031  19390406      F         12     160      김애규      로아신경과의원  84\n",
       "1058  ndb005  19400515      F         16     160      이송원       남양주백병원  83\n",
       "1059  ndb006  19451202      F          6     160      박정선       남양주백병원  78\n",
       "\n",
       "[527 rows x 9 columns]"
      ]
     },
     "execution_count": 25,
     "metadata": {},
     "output_type": "execute_result"
    }
   ],
   "source": [
    "user_log"
   ]
  },
  {
   "cell_type": "code",
   "execution_count": 120,
   "id": "fbf53b6b",
   "metadata": {},
   "outputs": [
    {
     "data": {
      "text/plain": [
       "189"
      ]
     },
     "execution_count": 120,
     "metadata": {},
     "output_type": "execute_result"
    }
   ],
   "source": [
    "np.sum(78<user_log['age'])"
   ]
  },
  {
   "cell_type": "code",
   "execution_count": 123,
   "id": "81d71756",
   "metadata": {},
   "outputs": [
    {
     "data": {
      "text/plain": [
       "array([26.0, 73.0, 79.0, 97.0], dtype=object)"
      ]
     },
     "execution_count": 123,
     "metadata": {},
     "output_type": "execute_result"
    }
   ],
   "source": [
    "age_quan = np.quantile(user_log['age'], [0, 1/3, 2/3, 1])"
   ]
  },
  {
   "cell_type": "code",
   "execution_count": 121,
   "id": "0aa095c0",
   "metadata": {},
   "outputs": [],
   "source": [
    "user_log['Label'] = pd.cut(x=user_log['age'], bins=list(age_quan),labels=['0-73', '74-79', '80-97'])"
   ]
  },
  {
   "cell_type": "code",
   "execution_count": 126,
   "id": "417cc9cb",
   "metadata": {},
   "outputs": [
    {
     "data": {
      "text/plain": [
       "Text(0, 0.5, 'Population')"
      ]
     },
     "execution_count": 126,
     "metadata": {},
     "output_type": "execute_result"
    },
    {
     "data": {
      "image/png": "[encoded data removed]",
      "text/plain": [
       "<Figure size 432x288 with 1 Axes>"
      ]
     },
     "metadata": {
      "needs_background": "light"
     },
     "output_type": "display_data"
    }
   ],
   "source": [
    "age_p = sns.countplot(x ='Label', data = user_log, )\n",
    "age_p.set_xlabel(\"Age\")\n",
    "age_p.set_ylabel(\"Population\")"
   ]
  },
  {
   "cell_type": "code",
   "execution_count": 107,
   "id": "0de9b5bb",
   "metadata": {},
   "outputs": [
    {
     "data": {
      "text/plain": [
       "array([ 0., 12., 20.])"
      ]
     },
     "execution_count": 107,
     "metadata": {},
     "output_type": "execute_result"
    }
   ],
   "source": [
    "np.quantile(user_log['education'], [0, 0.4639, 1])"
   ]
  },
  {
   "cell_type": "code",
   "execution_count": null,
   "id": "b547ced6",
   "metadata": {},
   "outputs": [],
   "source": [
    "user_log['Label2'] = pd.cut(x=user_log['education'], bins=list(edu_quan),labels=['0-72', '73-78', '79-97'])"
   ]
  },
  {
   "cell_type": "code",
   "execution_count": 75,
   "id": "1a25861a",
   "metadata": {},
   "outputs": [
    {
     "name": "stderr",
     "output_type": "stream",
     "text": [
      "C:\\Users\\sanghyun\\Anaconda3\\envs\\sb-db\\lib\\site-packages\\seaborn\\distributions.py:2619: FutureWarning: `distplot` is a deprecated function and will be removed in a future version. Please adapt your code to use either `displot` (a figure-level function with similar flexibility) or `histplot` (an axes-level function for histograms).\n",
      "  warnings.warn(msg, FutureWarning)\n"
     ]
    },
    {
     "data": {
      "text/plain": [
       "<AxesSubplot:xlabel='education', ylabel='Density'>"
      ]
     },
     "execution_count": 75,
     "metadata": {},
     "output_type": "execute_result"
    },
    {
     "data": {
      "image/png": "[encoded data removed]",
      "text/plain": [
       "<Figure size 432x288 with 1 Axes>"
      ]
     },
     "metadata": {
      "needs_background": "light"
     },
     "output_type": "display_data"
    }
   ],
   "source": [
    "sns.distplot(user_log['education'], kde_kws={'clip': (0.0, 20.0)})"
   ]
  },
  {
   "cell_type": "markdown",
   "id": "c7607c74",
   "metadata": {},
   "source": [
    "# 표본집단의 고학력자는 초대졸 이상으로 12학년 초과를 고학력자로 판단한다."
   ]
  },
  {
   "cell_type": "markdown",
   "id": "781355f0",
   "metadata": {},
   "source": [
    "표본 집단의 46.39%에 해당하는 고졸(12학년)까지의 환자를 저학력자로 정의한다."
   ]
  },
  {
   "cell_type": "code",
   "execution_count": null,
   "id": "9bcf74f5",
   "metadata": {},
   "outputs": [],
   "source": []
  }
 ],
 "metadata": {
  "kernelspec": {
   "display_name": "Python 3 (ipykernel)",
   "language": "python",
   "name": "python3"
  },
  "language_info": {
   "codemirror_mode": {
    "name": "ipython",
    "version": 3
   },
   "file_extension": ".py",
   "mimetype": "text/x-python",
   "name": "python",
   "nbconvert_exporter": "python",
   "pygments_lexer": "ipython3",
   "version": "3.9.7"
  }
 },
 "nbformat": 4,
 "nbformat_minor": 5
}
